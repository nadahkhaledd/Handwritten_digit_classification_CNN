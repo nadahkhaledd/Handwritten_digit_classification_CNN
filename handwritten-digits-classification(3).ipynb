{
 "cells": [
  {
   "cell_type": "code",
   "execution_count": 94,
   "id": "1ecb3115",
   "metadata": {},
   "outputs": [
    {
     "data": {
      "image/png": "[encoded data removed]",
      "text/plain": [
       "<Figure size 432x288 with 9 Axes>"
      ]
     },
     "metadata": {
      "needs_background": "light"
     },
     "output_type": "display_data"
    }
   ],
   "source": [
    "from tensorflow import keras\n",
    "from tensorflow.keras import layers\n",
    "from tensorflow.keras.datasets import mnist\n",
    "from sklearn.utils import shuffle\n",
    "from matplotlib import pyplot as plt\n",
    "from matplotlib import image as mpimg\n",
    "import numpy as np\n",
    "import cv2\n",
    "\n",
    "\n",
    "\n",
    "(trainX, trainY), (testX, testY) = mnist.load_data()\n",
    "\n",
    "for i in range(9):\n",
    "    # define subplot\n",
    "    plt.subplot(330 + 1 + i)\n",
    "    # plot raw pixel data\n",
    "    plt.imshow(trainX[i], cmap=plt.get_cmap('gray'))\n",
    "# show the figure\n",
    "plt.show()\n"
   ]
  },
  {
   "cell_type": "code",
   "execution_count": 95,
   "id": "c0f38114",
   "metadata": {},
   "outputs": [
    {
     "name": "stdout",
     "output_type": "stream",
     "text": [
      "(28, 28, 1)\n"
     ]
    }
   ],
   "source": [
    "trainX = trainX.reshape((trainX.shape[0], 28, 28, 1))\n",
    "testX = testX.reshape((testX.shape[0], 28, 28, 1))\n",
    "\n",
    "trainX= trainX.astype('float32')\n",
    "testX = testX.astype('float32')\n",
    "trainX = trainX / 255.0\n",
    "testX = testX / 255.0\n",
    "\n",
    "trainX, trainY = shuffle(trainX, trainY, random_state=0)\n",
    "\n",
    "print(trainX[0].shape)"
   ]
  },
  {
   "cell_type": "code",
   "execution_count": 122,
   "id": "71fcbb53",
   "metadata": {},
   "outputs": [
    {
     "name": "stdout",
     "output_type": "stream",
     "text": [
      "Model: \"sequential_24\"\n",
      "_________________________________________________________________\n",
      " Layer (type)                Output Shape              Param #   \n",
      "=================================================================\n",
      " conv2d_71 (Conv2D)          (None, 27, 27, 64)        320       \n",
      "                                                                 \n",
      " max_pooling2d_71 (MaxPoolin  (None, 27, 27, 64)       0         \n",
      " g2D)                                                            \n",
      "                                                                 \n",
      " conv2d_72 (Conv2D)          (None, 24, 24, 128)       131200    \n",
      "                                                                 \n",
      " max_pooling2d_72 (MaxPoolin  (None, 12, 12, 128)      0         \n",
      " g2D)                                                            \n",
      "                                                                 \n",
      " conv2d_73 (Conv2D)          (None, 9, 9, 256)         524544    \n",
      "                                                                 \n",
      " max_pooling2d_73 (MaxPoolin  (None, 4, 4, 256)        0         \n",
      " g2D)                                                            \n",
      "                                                                 \n",
      " flatten_24 (Flatten)        (None, 4096)              0         \n",
      "                                                                 \n",
      " dense_48 (Dense)            (None, 32)                131104    \n",
      "                                                                 \n",
      " dense_49 (Dense)            (None, 10)                330       \n",
      "                                                                 \n",
      "=================================================================\n",
      "Total params: 787,498\n",
      "Trainable params: 787,498\n",
      "Non-trainable params: 0\n",
      "_________________________________________________________________\n",
      "None\n"
     ]
    }
   ],
   "source": [
    "model = keras.models.Sequential([\n",
    "    layers.Conv2D(filters=32, kernel_size=(3, 3), activation='relu', input_shape=trainX[0].shape),\n",
    "    layers.MaxPooling2D((2, 2)),\n",
    "    \n",
    "    layers.Conv2D(filters=64, kernel_size=(3, 3), activation='relu'),\n",
    "    layers.MaxPooling2D((2, 2)),\n",
    "\n",
    "    layers.Conv2D(filters=128, kernel_size=(3, 3), activation='relu'),\n",
    "    layers.MaxPooling2D((2, 2)),\n",
    "    \n",
    "    layers.Flatten(),\n",
    "    layers.Dense(64, activation='relu'),\n",
    "    layers.Dense(10, activation='softmax')\n",
    "])\n",
    "model_2 = keras.models.Sequential([\n",
    "    layers.Conv2D(filters=32, kernel_size=(3, 3), activation='relu', input_shape=trainX[0].shape),\n",
    "    layers.MaxPooling2D((2, 2)),\n",
    "    \n",
    "    layers.Conv2D(filters=64, kernel_size=(3, 3), activation='relu'),\n",
    "    layers.MaxPooling2D((2, 2)),\n",
    "    \n",
    "    layers.Flatten(),\n",
    "    layers.Dense(32, activation='relu'),\n",
    "    layers.Dense(10, activation='softmax')\n",
    "])\n",
    "model_3 = keras.models.Sequential([\n",
    "    layers.Conv2D(filters=32, kernel_size=(2,2), activation='relu', input_shape=trainX[0].shape),\n",
    "    layers.MaxPooling2D((1,1)),\n",
    "    \n",
    "    layers.Conv2D(filters=64, kernel_size=(3,3), activation='relu'),\n",
    "    layers.MaxPooling2D((2,2)),\n",
    "\n",
    "    layers.Conv2D(filters=128, kernel_size=(3,3), activation='relu'),\n",
    "    layers.MaxPooling2D((2,2)),\n",
    "    \n",
    "    layers.Conv2D(filters=256, kernel_size=(3,3), activation='relu'),\n",
    "    layers.MaxPooling2D((2,2)),\n",
    "    \n",
    "    layers.Flatten(),\n",
    "    layers.Dense(64, activation='relu'),\n",
    "    layers.Dense(10, activation='softmax')\n",
    "])\n",
    "\n",
    "\n",
    "\n",
    "print(model_3.summary())"
   ]
  },
  {
   "cell_type": "code",
   "execution_count": 109,
   "id": "a5fe6cb2",
   "metadata": {},
   "outputs": [
    {
     "name": "stdout",
     "output_type": "stream",
     "text": [
      "Epoch 1/10\n",
      "1407/1407 [==============================] - 123s 86ms/step - loss: 0.1756 - accuracy: 0.9452 - val_loss: 0.0622 - val_accuracy: 0.9800\n",
      "Epoch 2/10\n",
      "1407/1407 [==============================] - 121s 86ms/step - loss: 0.0560 - accuracy: 0.9831 - val_loss: 0.0495 - val_accuracy: 0.9841\n",
      "Epoch 3/10\n",
      "1407/1407 [==============================] - 119s 85ms/step - loss: 0.0381 - accuracy: 0.9880 - val_loss: 0.0387 - val_accuracy: 0.9881\n",
      "Epoch 4/10\n",
      "1407/1407 [==============================] - 120s 85ms/step - loss: 0.0299 - accuracy: 0.9907 - val_loss: 0.0739 - val_accuracy: 0.9789\n",
      "Epoch 5/10\n",
      "1407/1407 [==============================] - 142s 101ms/step - loss: 0.0232 - accuracy: 0.9931 - val_loss: 0.0415 - val_accuracy: 0.9881\n",
      "Epoch 6/10\n",
      "1407/1407 [==============================] - 146s 104ms/step - loss: 0.0177 - accuracy: 0.9943 - val_loss: 0.0368 - val_accuracy: 0.9896\n",
      "Epoch 7/10\n",
      "1407/1407 [==============================] - 137s 98ms/step - loss: 0.0160 - accuracy: 0.9948 - val_loss: 0.0372 - val_accuracy: 0.9901\n",
      "Epoch 8/10\n",
      "1407/1407 [==============================] - 111s 79ms/step - loss: 0.0132 - accuracy: 0.9960 - val_loss: 0.0385 - val_accuracy: 0.9903\n",
      "Epoch 9/10\n",
      "1407/1407 [==============================] - 108s 77ms/step - loss: 0.0106 - accuracy: 0.9964 - val_loss: 0.0690 - val_accuracy: 0.9831\n",
      "Epoch 10/10\n",
      "1407/1407 [==============================] - 105s 74ms/step - loss: 0.0097 - accuracy: 0.9969 - val_loss: 0.0424 - val_accuracy: 0.9909\n",
      "<keras.callbacks.History object at 0x000001FD7159ADC0>\n"
     ]
    }
   ],
   "source": [
    "model_3.compile(optimizer='adam', loss='sparse_categorical_crossentropy', metrics=['accuracy'])\n",
    "fitting = model_3.fit(trainX, trainY, epochs=10, validation_split= 0.25)\n",
    "# if validation acc < acc => overfitting (incase of overfitting => dropout layers)\n",
    "# if validation acc almost = acc => doing well\n",
    "print(fitting)"
   ]
  },
  {
   "cell_type": "code",
   "execution_count": 110,
   "id": "43d0f3cc",
   "metadata": {},
   "outputs": [
    {
     "name": "stdout",
     "output_type": "stream",
     "text": [
      "313/313 [==============================] - 4s 13ms/step - loss: 0.0423 - accuracy: 0.9897\n",
      "Test loss accuracy:  0.04234708100557327 \n",
      "Test validation accuracy:  0.9897000193595886\n"
     ]
    }
   ],
   "source": [
    "(testLoss, testAcc) = model_3.evaluate(testX, testY)\n",
    "print(\"Test loss accuracy: \", testLoss, \"\\nTest validation accuracy: \", testAcc)\n"
   ]
  },
  {
   "cell_type": "code",
   "execution_count": 128,
   "id": "5399a296",
   "metadata": {
    "scrolled": true
   },
   "outputs": [
    {
     "name": "stdout",
     "output_type": "stream",
     "text": [
      "[8, 7, 0, 1, 1, 0]\n"
     ]
    },
    {
     "data": {
      "image/png": "[encoded data removed]",
      "text/plain": [
       "<Figure size 432x288 with 6 Axes>"
      ]
     },
     "metadata": {
      "needs_background": "light"
     },
     "output_type": "display_data"
    }
   ],
   "source": [
    "prediction = model_3.predict(testX)\n",
    "prediction_arr = [np.argmax(i) for i in prediction]\n",
    "print(prediction_arr[:6])\n",
    "\n",
    "for i in range(6):\n",
    "    # define subplot\n",
    "    plt.subplot(330 + 1 + i)\n",
    "    # plot raw pixel data\n",
    "    plt.imshow(testX[i], cmap=plt.get_cmap('gray'))\n",
    "# show the figure\n",
    "plt.show()"
   ]
  },
  {
   "cell_type": "code",
   "execution_count": 123,
   "id": "74000ed4",
   "metadata": {},
   "outputs": [
    {
     "data": {
      "text/plain": [
       "<matplotlib.image.AxesImage at 0x1fd03b276a0>"
      ]
     },
     "execution_count": 123,
     "metadata": {},
     "output_type": "execute_result"
    },
    {
     "data": {
      "image/png": "[encoded data removed]",
      "text/plain": [
       "<Figure size 432x288 with 1 Axes>"
      ]
     },
     "metadata": {
      "needs_background": "light"
     },
     "output_type": "display_data"
    }
   ],
   "source": [
    "#add image and predict\n",
    "img=plt.imread(r'C:\\Users\\dell\\Desktop\\9.png')\n",
    "plt.imshow(img)\n",
    "\n"
   ]
  },
  {
   "cell_type": "code",
   "execution_count": 127,
   "id": "61ff83e0",
   "metadata": {},
   "outputs": [],
   "source": [
    "gray=cv2.cvtColor(img,cv2.COLOR_RGB2GRAY)\n",
    "resized= cv2.resize(gray,(28,28),interpolation= cv2.INTER_AREA)\n",
    "#print(gray.shape)"
   ]
  },
  {
   "cell_type": "code",
   "execution_count": null,
   "id": "198c036b",
   "metadata": {},
   "outputs": [],
   "source": [
    "#print(resized.shape)"
   ]
  },
  {
   "cell_type": "markdown",
   "id": "208e2af9",
   "metadata": {},
   "source": [
    " newIMG=keras.utils.normalize(resized, axis=1)\n",
    "newIMG= np.array(newIMG).reshape(-1, 28, 28, 1)\n",
    "print(newIMG.shape)"
   ]
  },
  {
   "cell_type": "code",
   "execution_count": 119,
   "id": "62a7a392",
   "metadata": {},
   "outputs": [],
   "source": [
    "newIMG=keras.utils.normalize(resized, axis=1) \n",
    "newIMG= np.array(newIMG).reshape(-1, 28, 28, 1) "
   ]
  },
  {
   "cell_type": "code",
   "execution_count": 126,
   "id": "2efc7bcf",
   "metadata": {},
   "outputs": [
    {
     "name": "stdout",
     "output_type": "stream",
     "text": [
      "0\n"
     ]
    }
   ],
   "source": [
    "prediction = model_3.predict(newIMG)\n",
    "print(np.argmax(prediction))"
   ]
  },
  {
   "cell_type": "code",
   "execution_count": null,
   "id": "3c62bed5",
   "metadata": {},
   "outputs": [],
   "source": []
  },
  {
   "cell_type": "code",
   "execution_count": null,
   "id": "99f4f6da",
   "metadata": {},
   "outputs": [],
   "source": []
  }
 ],
 "metadata": {
  "kernelspec": {
   "display_name": "Python 3",
   "language": "python",
   "name": "python3"
  },
  "language_info": {
   "codemirror_mode": {
    "name": "ipython",
    "version": 3
   },
   "file_extension": ".py",
   "mimetype": "text/x-python",
   "name": "python",
   "nbconvert_exporter": "python",
   "pygments_lexer": "ipython3",
   "version": "3.8.8"
  }
 },
 "nbformat": 4,
 "nbformat_minor": 5
}
